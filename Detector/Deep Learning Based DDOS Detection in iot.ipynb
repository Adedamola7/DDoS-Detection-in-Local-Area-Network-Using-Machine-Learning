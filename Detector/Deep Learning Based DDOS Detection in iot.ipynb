{
 "cells": [
  {
   "cell_type": "markdown",
   "id": "8cf5a75a",
   "metadata": {},
   "source": [
    "### Import Essential Modules"
   ]
  },
  {
   "cell_type": "code",
   "execution_count": null,
   "id": "857a36ed",
   "metadata": {},
   "outputs": [],
   "source": [
    "import pandas as pd\n",
    "import numpy as np\n",
    "import seaborn as sns\n",
    "import matplotlib.pyplot as plt\n",
    "from sklearn import preprocessing\n",
    "from sklearn.preprocessing import MinMaxScaler\n",
    "from sklearn.model_selection import train_test_split\n",
    "from sklearn import metrics\n",
    "from sklearn.model_selection import cross_val_score\n",
    "from sklearn.metrics import classification_report,confusion_matrix\n",
    "from sklearn.model_selection import RandomizedSearchCV, GridSearchCV\n",
    "from sklearn.model_selection import StratifiedKFold\n",
    "from sklearn.metrics import roc_curve\n",
    "from sklearn import tree\n",
    "from sklearn.neighbors import KNeighborsClassifier\n",
    "from sklearn.svm import SVC\n",
    "from sklearn.tree import DecisionTreeClassifier\n",
    "from sklearn.ensemble import RandomForestClassifier\n",
    "from sklearn.discriminant_analysis import QuadraticDiscriminantAnalysis\n",
    "from sklearn.naive_bayes import CategoricalNB\n",
    "from sklearn.linear_model import LogisticRegression\n",
    "from sklearn.linear_model import SGDClassifier\n",
    "from sklearn.ensemble import AdaBoostClassifier\n",
    "from sklearn.decomposition import PCA\n",
    "from sklearn.tree import export_graphviz\n",
    "from six import StringIO\n",
    "%matplotlib inline\n",
    "from tensorflow.keras.models import Sequential\n",
    "from tensorflow.keras.layers import Dense"
   ]
  },
  {
   "cell_type": "code",
   "execution_count": null,
   "id": "1dc4094d-fb32-4bf9-abc9-d6af10ea493c",
   "metadata": {},
   "outputs": [],
   "source": []
  },
  {
   "cell_type": "markdown",
   "id": "dba5cf76",
   "metadata": {},
   "source": [
    "### About the Dataset"
   ]
  },
  {
   "cell_type": "code",
   "execution_count": null,
   "id": "59616903",
   "metadata": {},
   "outputs": [],
   "source": [
    "df = pd.read_csv(\"C:/Users/HP/Desktop/Lina's FYP - Copy/Implementation/iot_traffic_data.csv\")\n",
    "df.head(10)"
   ]
  },
  {
   "cell_type": "markdown",
   "id": "a5ded3e3",
   "metadata": {},
   "source": [
    "#### Dataset Dimensions"
   ]
  },
  {
   "cell_type": "code",
   "execution_count": null,
   "id": "fd04f6fc",
   "metadata": {},
   "outputs": [],
   "source": [
    "print(\"This Dataset has {} rows and {} columns\".format(df.shape[0], df.shape[1]))"
   ]
  },
  {
   "cell_type": "markdown",
   "id": "803bea86",
   "metadata": {},
   "source": [
    "#### Concise summary of dataset"
   ]
  },
  {
   "cell_type": "code",
   "execution_count": 39,
   "id": "d131b455",
   "metadata": {},
   "outputs": [
    {
     "name": "stdout",
     "output_type": "stream",
     "text": [
      "<class 'pandas.core.frame.DataFrame'>\n",
      "RangeIndex: 10000 entries, 0 to 9999\n",
      "Data columns (total 12 columns):\n",
      " #   Column       Non-Null Count  Dtype \n",
      "---  ------       --------------  ----- \n",
      " 0   Timestamp    10000 non-null  object\n",
      " 1   Device_Type  10000 non-null  object\n",
      " 2   Src_IP       10000 non-null  object\n",
      " 3   Dst_IP       10000 non-null  object\n",
      " 4   Src_Port     10000 non-null  int64 \n",
      " 5   Dst_Port     10000 non-null  int64 \n",
      " 6   Protocol     10000 non-null  object\n",
      " 7   Packet_Size  10000 non-null  int64 \n",
      " 8   Flags        7983 non-null   object\n",
      " 9   Payload      10000 non-null  int64 \n",
      " 10  Activity     10000 non-null  object\n",
      " 11  label        10000 non-null  int64 \n",
      "dtypes: int64(5), object(7)\n",
      "memory usage: 937.6+ KB\n"
     ]
    }
   ],
   "source": [
    "df.info()"
   ]
  },
  {
   "cell_type": "markdown",
   "id": "34549914",
   "metadata": {},
   "source": [
    "#### Descriptive statistics of dataset"
   ]
  },
  {
   "cell_type": "code",
   "execution_count": 40,
   "id": "3c444761",
   "metadata": {},
   "outputs": [
    {
     "data": {
      "text/html": [
       "<div>\n",
       "<style scoped>\n",
       "    .dataframe tbody tr th:only-of-type {\n",
       "        vertical-align: middle;\n",
       "    }\n",
       "\n",
       "    .dataframe tbody tr th {\n",
       "        vertical-align: top;\n",
       "    }\n",
       "\n",
       "    .dataframe thead th {\n",
       "        text-align: right;\n",
       "    }\n",
       "</style>\n",
       "<table border=\"1\" class=\"dataframe\">\n",
       "  <thead>\n",
       "    <tr style=\"text-align: right;\">\n",
       "      <th></th>\n",
       "      <th>Src_Port</th>\n",
       "      <th>Dst_Port</th>\n",
       "      <th>Packet_Size</th>\n",
       "      <th>Payload</th>\n",
       "      <th>label</th>\n",
       "    </tr>\n",
       "  </thead>\n",
       "  <tbody>\n",
       "    <tr>\n",
       "      <th>count</th>\n",
       "      <td>10000.00000</td>\n",
       "      <td>10000.000000</td>\n",
       "      <td>10000.000000</td>\n",
       "      <td>10000.000000</td>\n",
       "      <td>10000.000000</td>\n",
       "    </tr>\n",
       "    <tr>\n",
       "      <th>mean</th>\n",
       "      <td>33569.91930</td>\n",
       "      <td>33085.370100</td>\n",
       "      <td>767.780500</td>\n",
       "      <td>702.864300</td>\n",
       "      <td>0.488700</td>\n",
       "    </tr>\n",
       "    <tr>\n",
       "      <th>std</th>\n",
       "      <td>18582.78581</td>\n",
       "      <td>18391.580353</td>\n",
       "      <td>420.954947</td>\n",
       "      <td>405.873709</td>\n",
       "      <td>0.499897</td>\n",
       "    </tr>\n",
       "    <tr>\n",
       "      <th>min</th>\n",
       "      <td>1005.00000</td>\n",
       "      <td>1005.000000</td>\n",
       "      <td>40.000000</td>\n",
       "      <td>0.000000</td>\n",
       "      <td>0.000000</td>\n",
       "    </tr>\n",
       "    <tr>\n",
       "      <th>25%</th>\n",
       "      <td>17528.00000</td>\n",
       "      <td>17242.000000</td>\n",
       "      <td>407.750000</td>\n",
       "      <td>346.000000</td>\n",
       "      <td>0.000000</td>\n",
       "    </tr>\n",
       "    <tr>\n",
       "      <th>50%</th>\n",
       "      <td>33673.00000</td>\n",
       "      <td>32871.500000</td>\n",
       "      <td>770.000000</td>\n",
       "      <td>707.500000</td>\n",
       "      <td>0.000000</td>\n",
       "    </tr>\n",
       "    <tr>\n",
       "      <th>75%</th>\n",
       "      <td>49607.00000</td>\n",
       "      <td>48800.750000</td>\n",
       "      <td>1128.000000</td>\n",
       "      <td>1053.000000</td>\n",
       "      <td>1.000000</td>\n",
       "    </tr>\n",
       "    <tr>\n",
       "      <th>max</th>\n",
       "      <td>65488.00000</td>\n",
       "      <td>65530.000000</td>\n",
       "      <td>1500.000000</td>\n",
       "      <td>1400.000000</td>\n",
       "      <td>1.000000</td>\n",
       "    </tr>\n",
       "  </tbody>\n",
       "</table>\n",
       "</div>"
      ],
      "text/plain": [
       "          Src_Port      Dst_Port   Packet_Size       Payload         label\n",
       "count  10000.00000  10000.000000  10000.000000  10000.000000  10000.000000\n",
       "mean   33569.91930  33085.370100    767.780500    702.864300      0.488700\n",
       "std    18582.78581  18391.580353    420.954947    405.873709      0.499897\n",
       "min     1005.00000   1005.000000     40.000000      0.000000      0.000000\n",
       "25%    17528.00000  17242.000000    407.750000    346.000000      0.000000\n",
       "50%    33673.00000  32871.500000    770.000000    707.500000      0.000000\n",
       "75%    49607.00000  48800.750000   1128.000000   1053.000000      1.000000\n",
       "max    65488.00000  65530.000000   1500.000000   1400.000000      1.000000"
      ]
     },
     "execution_count": 40,
     "metadata": {},
     "output_type": "execute_result"
    }
   ],
   "source": [
    "df.describe()"
   ]
  },
  {
   "cell_type": "markdown",
   "id": "09a59c41",
   "metadata": {},
   "source": [
    "#### heatmap of missing values"
   ]
  },
  {
   "cell_type": "code",
   "execution_count": 41,
   "id": "803d7c8c-4ceb-4ee1-9c0d-4a9a181c3333",
   "metadata": {},
   "outputs": [
    {
     "data": {
      "image/png": "[encoded data removed]",
      "text/plain": [
       "<Figure size 800x600 with 1 Axes>"
      ]
     },
     "metadata": {},
     "output_type": "display_data"
    }
   ],
   "source": [
    "data = pd.read_csv(\"C:/Users/HP/Desktop/Lina's FYP - Copy/Implementation/iot_traffic_data.csv\")\n",
    "data_types = data.dtypes.value_counts()\n",
    "\n",
    "plt.figure(figsize=(8,6))\n",
    "data_types.plot(kind='bar', color='black')\n",
    "plt.title(\"Data Types of Dataset\")\n",
    "plt.xlabel(\"Data Type\")\n",
    "plt.ylabel(\"Count\")\n",
    "plt.xticks(rotation=45)\n",
    "plt.tight_layout()\n",
    "plt.show()"
   ]
  },
  {
   "cell_type": "markdown",
   "id": "2a56dd87",
   "metadata": {},
   "source": [
    "#### Count of null values in each feature "
   ]
  },
  {
   "cell_type": "code",
   "execution_count": 42,
   "id": "4b169f16",
   "metadata": {},
   "outputs": [
    {
     "data": {
      "text/plain": [
       "Timestamp         0\n",
       "Device_Type       0\n",
       "Src_IP            0\n",
       "Dst_IP            0\n",
       "Src_Port          0\n",
       "Dst_Port          0\n",
       "Protocol          0\n",
       "Packet_Size       0\n",
       "Flags          2017\n",
       "Payload           0\n",
       "Activity          0\n",
       "label             0\n",
       "dtype: int64"
      ]
     },
     "execution_count": 42,
     "metadata": {},
     "output_type": "execute_result"
    }
   ],
   "source": [
    "df.isnull().sum()"
   ]
  },
  {
   "cell_type": "code",
   "execution_count": 43,
   "id": "0af67366",
   "metadata": {},
   "outputs": [
    {
     "data": {
      "text/plain": [
       "Timestamp       0.00\n",
       "Device_Type     0.00\n",
       "Src_IP          0.00\n",
       "Dst_IP          0.00\n",
       "Src_Port        0.00\n",
       "Dst_Port        0.00\n",
       "Protocol        0.00\n",
       "Packet_Size     0.00\n",
       "Flags          20.17\n",
       "Payload         0.00\n",
       "Activity        0.00\n",
       "label           0.00\n",
       "dtype: float64"
      ]
     },
     "execution_count": 43,
     "metadata": {},
     "output_type": "execute_result"
    }
   ],
   "source": [
    "(df.isnull().sum()/df.isnull().count())*100"
   ]
  },
  {
   "cell_type": "markdown",
   "id": "fe62324e",
   "metadata": {},
   "source": [
    "#### Drop rows with null values"
   ]
  },
  {
   "cell_type": "code",
   "execution_count": 44,
   "id": "37b3ff55",
   "metadata": {},
   "outputs": [],
   "source": [
    "df.dropna(inplace=True)"
   ]
  },
  {
   "cell_type": "markdown",
   "id": "04529414",
   "metadata": {},
   "source": [
    "#### Info after handling Null Values"
   ]
  },
  {
   "cell_type": "code",
   "execution_count": 45,
   "id": "4d4768b8",
   "metadata": {},
   "outputs": [
    {
     "name": "stdout",
     "output_type": "stream",
     "text": [
      "Timestamp      0\n",
      "Device_Type    0\n",
      "Src_IP         0\n",
      "Dst_IP         0\n",
      "Src_Port       0\n",
      "Dst_Port       0\n",
      "Protocol       0\n",
      "Packet_Size    0\n",
      "Flags          0\n",
      "Payload        0\n",
      "Activity       0\n",
      "label          0\n",
      "dtype: int64\n",
      "This Dataframe has 7983 rows and 12 columns after removing null values\n"
     ]
    }
   ],
   "source": [
    "print(df.isnull().sum())\n",
    "print(\"This Dataframe has {} rows and {} columns after removing null values\".format(df.shape[0], df.shape[1]))"
   ]
  },
  {
   "cell_type": "markdown",
   "id": "27f22a5e",
   "metadata": {},
   "source": [
    "#### Distribution of Target Class"
   ]
  },
  {
   "cell_type": "code",
   "execution_count": 46,
   "id": "520822ef",
   "metadata": {},
   "outputs": [
    {
     "name": "stdout",
     "output_type": "stream",
     "text": [
      "Number of DDOS attacks that has occured : 48.9 %\n",
      "Number of DDOS attacks that has not occured : 51.1 %\n"
     ]
    }
   ],
   "source": [
    "malign = df[df['label'] == 1]\n",
    "benign = df[df['label'] == 0]\n",
    "\n",
    "print('Number of DDOS attacks that has occured :',round((len(malign)/df.shape[0])*100,2),'%')\n",
    "print('Number of DDOS attacks that has not occured :',round((len(benign)/df.shape[0])*100,2),'%')"
   ]
  },
  {
   "cell_type": "markdown",
   "id": "3a568cbe",
   "metadata": {},
   "source": [
    "#### Barplot of Target Class"
   ]
  },
  {
   "cell_type": "code",
   "execution_count": 47,
   "id": "dac12a8b",
   "metadata": {},
   "outputs": [
    {
     "name": "stderr",
     "output_type": "stream",
     "text": [
      "C:\\Users\\HP\\AppData\\Local\\Temp\\ipykernel_5200\\4157118356.py:3: FutureWarning: pandas.value_counts is deprecated and will be removed in a future version. Use pd.Series(obj).value_counts() instead.\n",
      "  classes = pd.value_counts(df['label'], sort = True) / df['label'].count() *100\n"
     ]
    },
    {
     "data": {
      "text/plain": [
       "Text(0, 0.5, 'Frequency %')"
      ]
     },
     "execution_count": 47,
     "metadata": {},
     "output_type": "execute_result"
    },
    {
     "data": {
      "image/png": "[encoded data removed]",
      "text/plain": [
       "<Figure size 640x480 with 1 Axes>"
      ]
     },
     "metadata": {},
     "output_type": "display_data"
    }
   ],
   "source": [
    "# Let's plot the Label class against the Frequency\n",
    "labels = ['benign','malign']\n",
    "classes = pd.value_counts(df['label'], sort = True) / df['label'].count() *100\n",
    "classes.plot(kind = 'bar')\n",
    "plt.title(\"Label class distribution\")\n",
    "plt.xticks(range(2), labels)\n",
    "plt.xlabel(\"Label\")\n",
    "plt.ylabel(\"Frequency %\")"
   ]
  },
  {
   "cell_type": "markdown",
   "id": "dba10564",
   "metadata": {},
   "source": [
    "#### Columns in the dataset"
   ]
  },
  {
   "cell_type": "code",
   "execution_count": 48,
   "id": "f25a8cec",
   "metadata": {},
   "outputs": [
    {
     "data": {
      "text/plain": [
       "Index(['Timestamp', 'Device_Type', 'Src_IP', 'Dst_IP', 'Src_Port', 'Dst_Port',\n",
       "       'Protocol', 'Packet_Size', 'Flags', 'Payload', 'Activity', 'label'],\n",
       "      dtype='object')"
      ]
     },
     "execution_count": 48,
     "metadata": {},
     "output_type": "execute_result"
    }
   ],
   "source": [
    "df.columns"
   ]
  },
  {
   "cell_type": "markdown",
   "id": "01587f1e",
   "metadata": {},
   "source": [
    "#### Unique values in each column"
   ]
  },
  {
   "cell_type": "code",
   "execution_count": 49,
   "id": "94f63d7a",
   "metadata": {},
   "outputs": [
    {
     "name": "stdout",
     "output_type": "stream",
     "text": [
      "Timestamp      [25:24.2, 04:45.2, 15:47.2, 07:05.2, 15:22.2, ...\n",
      "Device_Type    [Smart Lock, Smart Thermostat, Smart LED Light...\n",
      "Src_IP         [75.191.213.34, 159.86.87.106, 238.245.183.93,...\n",
      "Dst_IP         [91.126.134.188, 64.202.179.201, 81.57.157.140...\n",
      "Src_Port       [64927, 22858, 21042, 3799, 2827, 14452, 44944...\n",
      "Dst_Port       [5866, 61498, 4709, 31702, 39385, 32565, 49648...\n",
      "Protocol                                              [TCP, UDP]\n",
      "Packet_Size    [776, 1341, 1428, 227, 1303, 269, 314, 1164, 1...\n",
      "Flags                                       [FIN, RST, ACK, SYN]\n",
      "Payload        [178, 1238, 1273, 196, 1149, 202, 45, 674, 710...\n",
      "Activity                    [sending data, receiving data, idle]\n",
      "label                                                     [1, 0]\n",
      "dtype: object\n"
     ]
    }
   ],
   "source": [
    "print(df.apply(lambda col: col.unique()))"
   ]
  },
  {
   "cell_type": "markdown",
   "id": "549e0412",
   "metadata": {},
   "source": [
    "#### Numerical Features"
   ]
  },
  {
   "cell_type": "code",
   "execution_count": 50,
   "id": "791c661a",
   "metadata": {},
   "outputs": [
    {
     "name": "stdout",
     "output_type": "stream",
     "text": [
      "The number of numerical features is 5 and they are : \n",
      " ['Src_Port', 'Dst_Port', 'Packet_Size', 'Payload', 'label']\n"
     ]
    }
   ],
   "source": [
    "numerical_features = [feature for feature in df.columns if df[feature].dtypes != 'O']\n",
    "print(\"The number of numerical features is\",len(numerical_features),\"and they are : \\n\",numerical_features)"
   ]
  },
  {
   "cell_type": "markdown",
   "id": "6be4c029",
   "metadata": {},
   "source": [
    "#### Categorical Features"
   ]
  },
  {
   "cell_type": "code",
   "execution_count": 51,
   "id": "c35beed7",
   "metadata": {},
   "outputs": [
    {
     "name": "stdout",
     "output_type": "stream",
     "text": [
      "The number of categorical features is 7 and they are : \n",
      " ['Timestamp', 'Device_Type', 'Src_IP', 'Dst_IP', 'Protocol', 'Flags', 'Activity']\n"
     ]
    }
   ],
   "source": [
    "categorical_features = [feature for feature in df.columns if df[feature].dtypes == 'O']\n",
    "print(\"The number of categorical features is\",len(categorical_features),\"and they are : \\n\",categorical_features)"
   ]
  },
  {
   "cell_type": "markdown",
   "id": "3ec03f4e",
   "metadata": {},
   "source": [
    "#### Number of Unique values in the numerical features "
   ]
  },
  {
   "cell_type": "code",
   "execution_count": 52,
   "id": "5b11f185",
   "metadata": {},
   "outputs": [
    {
     "data": {
      "text/plain": [
       "Src_Port       7493\n",
       "Dst_Port       7536\n",
       "Packet_Size    1455\n",
       "Payload        1399\n",
       "label             2\n",
       "dtype: int64"
      ]
     },
     "execution_count": 52,
     "metadata": {},
     "output_type": "execute_result"
    }
   ],
   "source": [
    "# number of unique values in each numerical variable\n",
    "df[numerical_features].nunique(axis=0)"
   ]
  },
  {
   "cell_type": "markdown",
   "id": "7678de8d",
   "metadata": {},
   "source": [
    "#### Discrete numerical features"
   ]
  },
  {
   "cell_type": "code",
   "execution_count": 53,
   "id": "2d5c3b9f",
   "metadata": {},
   "outputs": [
    {
     "name": "stdout",
     "output_type": "stream",
     "text": [
      "The number of discrete features is 0 and they are : \n",
      " []\n"
     ]
    }
   ],
   "source": [
    "#discrete numerical features \n",
    "discrete_feature = [feature for feature in numerical_features if df[feature].nunique()<=15 and feature != 'label']\n",
    "print(\"The number of discrete features is\",len(discrete_feature),\"and they are : \\n\",discrete_feature)"
   ]
  },
  {
   "cell_type": "code",
   "execution_count": 54,
   "id": "c5f83be3",
   "metadata": {},
   "outputs": [
    {
     "data": {
      "text/html": [
       "<div>\n",
       "<style scoped>\n",
       "    .dataframe tbody tr th:only-of-type {\n",
       "        vertical-align: middle;\n",
       "    }\n",
       "\n",
       "    .dataframe tbody tr th {\n",
       "        vertical-align: top;\n",
       "    }\n",
       "\n",
       "    .dataframe thead th {\n",
       "        text-align: right;\n",
       "    }\n",
       "</style>\n",
       "<table border=\"1\" class=\"dataframe\">\n",
       "  <thead>\n",
       "    <tr style=\"text-align: right;\">\n",
       "      <th></th>\n",
       "    </tr>\n",
       "  </thead>\n",
       "  <tbody>\n",
       "    <tr>\n",
       "      <th>0</th>\n",
       "    </tr>\n",
       "    <tr>\n",
       "      <th>1</th>\n",
       "    </tr>\n",
       "    <tr>\n",
       "      <th>2</th>\n",
       "    </tr>\n",
       "    <tr>\n",
       "      <th>3</th>\n",
       "    </tr>\n",
       "    <tr>\n",
       "      <th>5</th>\n",
       "    </tr>\n",
       "    <tr>\n",
       "      <th>7</th>\n",
       "    </tr>\n",
       "    <tr>\n",
       "      <th>8</th>\n",
       "    </tr>\n",
       "    <tr>\n",
       "      <th>9</th>\n",
       "    </tr>\n",
       "    <tr>\n",
       "      <th>10</th>\n",
       "    </tr>\n",
       "    <tr>\n",
       "      <th>11</th>\n",
       "    </tr>\n",
       "  </tbody>\n",
       "</table>\n",
       "</div>"
      ],
      "text/plain": [
       "Empty DataFrame\n",
       "Columns: []\n",
       "Index: [0, 1, 2, 3, 5, 7, 8, 9, 10, 11]"
      ]
     },
     "execution_count": 54,
     "metadata": {},
     "output_type": "execute_result"
    }
   ],
   "source": [
    "df[discrete_feature].head(10)"
   ]
  },
  {
   "cell_type": "markdown",
   "id": "18830683",
   "metadata": {},
   "source": [
    "#### Continuous features"
   ]
  },
  {
   "cell_type": "code",
   "execution_count": 55,
   "id": "5e333ca4",
   "metadata": {},
   "outputs": [
    {
     "name": "stdout",
     "output_type": "stream",
     "text": [
      "The number of continuous_feature features is 4 and they are : \n",
      " ['Src_Port', 'Dst_Port', 'Packet_Size', 'Payload']\n"
     ]
    }
   ],
   "source": [
    "continuous_feature=[feature for feature in numerical_features if feature not in discrete_feature + ['label']]\n",
    "print(\"The number of continuous_feature features is\",len(continuous_feature),\"and they are : \\n\",continuous_feature)"
   ]
  },
  {
   "cell_type": "markdown",
   "id": "26860d61",
   "metadata": {},
   "source": [
    "### Exploratory Data Analysis"
   ]
  },
  {
   "cell_type": "markdown",
   "id": "0d401c70",
   "metadata": {},
   "source": [
    "#### Plotting function definition "
   ]
  },
  {
   "cell_type": "code",
   "execution_count": 56,
   "id": "478f8e0c",
   "metadata": {},
   "outputs": [],
   "source": [
    "def countplot_distribution(col):\n",
    "    sns.set_theme(style=\"darkgrid\")\n",
    "    sns.countplot(y=col, data=df).set(title = 'Distribution of ' + col)\n",
    "\n",
    "def histplot_distribution(col):\n",
    "    sns.set_theme(style=\"darkgrid\")\n",
    "    sns.histplot(data=df,x=col, kde=True,color=\"red\").set(title = 'Distribution of ' + col)"
   ]
  },
  {
   "cell_type": "markdown",
   "id": "f12eaa5a",
   "metadata": {},
   "source": [
    "#### Visualize the distribution of Categorical features"
   ]
  },
  {
   "cell_type": "code",
   "execution_count": null,
   "id": "0aa81eef",
   "metadata": {},
   "outputs": [],
   "source": [
    "## Lets analyse the categorical values by creating histograms to understand the distribution\n",
    "f = plt.figure(figsize=(8,20))\n",
    "for i in range(len(categorical_features)):\n",
    "    f.add_subplot(len(categorical_features), 1, i+1)\n",
    "    countplot_distribution(categorical_features[i])\n",
    "plt.show()"
   ]
  },
  {
   "cell_type": "markdown",
   "id": "c8f63709",
   "metadata": {},
   "source": [
    "#### Visualize the distribution of numerical discrete features"
   ]
  },
  {
   "cell_type": "code",
   "execution_count": 26,
   "id": "81c58e97",
   "metadata": {},
   "outputs": [],
   "source": [
    "for feature in discrete_feature:\n",
    "    plt.figure(figsize=(8,4))\n",
    "    cat_num = df[feature].value_counts()\n",
    "    sns.barplot(x=cat_num.index, y = cat_num).set(title = \"Graph for \"+feature, ylabel=\"Frequency\")\n",
    "    plt.show()"
   ]
  },
  {
   "cell_type": "code",
   "execution_count": 27,
   "id": "9b7ccba2",
   "metadata": {},
   "outputs": [],
   "source": [
    "def get_percentage_malign_protocols():\n",
    "    arr = [x for x, y in zip(df['Protocol'], df['label']) if y == 1]\n",
    "    perc_arr = []\n",
    "    for i in ['UDP','TCP','ICMP']:\n",
    "        perc_arr.append(arr.count(i)/len(arr) *100)\n",
    "    return perc_arr"
   ]
  },
  {
   "cell_type": "markdown",
   "id": "a281e754",
   "metadata": {},
   "source": [
    "#### Checking for outliers in Packet count feature"
   ]
  },
  {
   "cell_type": "code",
   "execution_count": null,
   "id": "c5b1e27b",
   "metadata": {},
   "outputs": [],
   "source": []
  },
  {
   "cell_type": "code",
   "execution_count": 29,
   "id": "e2984db4",
   "metadata": {},
   "outputs": [
    {
     "name": "stdout",
     "output_type": "stream",
     "text": [
      "Features which need to be encoded are : \n",
      " ['Timestamp', 'Device_Type', 'Src_IP', 'Dst_IP', 'Protocol', 'Flags', 'Activity']\n"
     ]
    }
   ],
   "source": [
    "print(\"Features which need to be encoded are : \\n\" ,categorical_features)"
   ]
  },
  {
   "cell_type": "markdown",
   "id": "d4ddf1f0",
   "metadata": {},
   "source": [
    "### Encoding categorical features"
   ]
  },
  {
   "cell_type": "code",
   "execution_count": 30,
   "id": "5dc4d263",
   "metadata": {},
   "outputs": [
    {
     "name": "stdout",
     "output_type": "stream",
     "text": [
      "This Dataframe has 7983 rows and 21444 columns after encoding\n"
     ]
    }
   ],
   "source": [
    "df = pd.get_dummies(df, columns=categorical_features,drop_first=True)\n",
    "print(\"This Dataframe has {} rows and {} columns after encoding\".format(df.shape[0], df.shape[1]))"
   ]
  },
  {
   "cell_type": "code",
   "execution_count": 31,
   "id": "9f46cf48",
   "metadata": {},
   "outputs": [
    {
     "data": {
      "text/html": [
       "<div>\n",
       "<style scoped>\n",
       "    .dataframe tbody tr th:only-of-type {\n",
       "        vertical-align: middle;\n",
       "    }\n",
       "\n",
       "    .dataframe tbody tr th {\n",
       "        vertical-align: top;\n",
       "    }\n",
       "\n",
       "    .dataframe thead th {\n",
       "        text-align: right;\n",
       "    }\n",
       "</style>\n",
       "<table border=\"1\" class=\"dataframe\">\n",
       "  <thead>\n",
       "    <tr style=\"text-align: right;\">\n",
       "      <th></th>\n",
       "      <th>Src_Port</th>\n",
       "      <th>Dst_Port</th>\n",
       "      <th>Packet_Size</th>\n",
       "      <th>Payload</th>\n",
       "      <th>label</th>\n",
       "      <th>Timestamp_00:00.4</th>\n",
       "      <th>Timestamp_00:01.3</th>\n",
       "      <th>Timestamp_00:02.2</th>\n",
       "      <th>Timestamp_00:02.3</th>\n",
       "      <th>Timestamp_00:03.2</th>\n",
       "      <th>...</th>\n",
       "      <th>Dst_IP_99.77.74.141</th>\n",
       "      <th>Dst_IP_99.81.174.168</th>\n",
       "      <th>Dst_IP_99.87.115.152</th>\n",
       "      <th>Dst_IP_99.97.88.84</th>\n",
       "      <th>Protocol_UDP</th>\n",
       "      <th>Flags_FIN</th>\n",
       "      <th>Flags_RST</th>\n",
       "      <th>Flags_SYN</th>\n",
       "      <th>Activity_receiving data</th>\n",
       "      <th>Activity_sending data</th>\n",
       "    </tr>\n",
       "  </thead>\n",
       "  <tbody>\n",
       "    <tr>\n",
       "      <th>0</th>\n",
       "      <td>64927</td>\n",
       "      <td>5866</td>\n",
       "      <td>776</td>\n",
       "      <td>178</td>\n",
       "      <td>1</td>\n",
       "      <td>False</td>\n",
       "      <td>False</td>\n",
       "      <td>False</td>\n",
       "      <td>False</td>\n",
       "      <td>False</td>\n",
       "      <td>...</td>\n",
       "      <td>False</td>\n",
       "      <td>False</td>\n",
       "      <td>False</td>\n",
       "      <td>False</td>\n",
       "      <td>False</td>\n",
       "      <td>True</td>\n",
       "      <td>False</td>\n",
       "      <td>False</td>\n",
       "      <td>False</td>\n",
       "      <td>True</td>\n",
       "    </tr>\n",
       "    <tr>\n",
       "      <th>1</th>\n",
       "      <td>22858</td>\n",
       "      <td>61498</td>\n",
       "      <td>1341</td>\n",
       "      <td>1238</td>\n",
       "      <td>0</td>\n",
       "      <td>False</td>\n",
       "      <td>False</td>\n",
       "      <td>False</td>\n",
       "      <td>False</td>\n",
       "      <td>False</td>\n",
       "      <td>...</td>\n",
       "      <td>False</td>\n",
       "      <td>False</td>\n",
       "      <td>False</td>\n",
       "      <td>False</td>\n",
       "      <td>True</td>\n",
       "      <td>False</td>\n",
       "      <td>True</td>\n",
       "      <td>False</td>\n",
       "      <td>False</td>\n",
       "      <td>True</td>\n",
       "    </tr>\n",
       "    <tr>\n",
       "      <th>2</th>\n",
       "      <td>21042</td>\n",
       "      <td>4709</td>\n",
       "      <td>1428</td>\n",
       "      <td>1273</td>\n",
       "      <td>1</td>\n",
       "      <td>False</td>\n",
       "      <td>False</td>\n",
       "      <td>False</td>\n",
       "      <td>False</td>\n",
       "      <td>False</td>\n",
       "      <td>...</td>\n",
       "      <td>False</td>\n",
       "      <td>False</td>\n",
       "      <td>False</td>\n",
       "      <td>False</td>\n",
       "      <td>False</td>\n",
       "      <td>False</td>\n",
       "      <td>False</td>\n",
       "      <td>False</td>\n",
       "      <td>True</td>\n",
       "      <td>False</td>\n",
       "    </tr>\n",
       "    <tr>\n",
       "      <th>3</th>\n",
       "      <td>3799</td>\n",
       "      <td>31702</td>\n",
       "      <td>227</td>\n",
       "      <td>196</td>\n",
       "      <td>1</td>\n",
       "      <td>False</td>\n",
       "      <td>False</td>\n",
       "      <td>False</td>\n",
       "      <td>False</td>\n",
       "      <td>False</td>\n",
       "      <td>...</td>\n",
       "      <td>False</td>\n",
       "      <td>False</td>\n",
       "      <td>False</td>\n",
       "      <td>False</td>\n",
       "      <td>False</td>\n",
       "      <td>False</td>\n",
       "      <td>True</td>\n",
       "      <td>False</td>\n",
       "      <td>False</td>\n",
       "      <td>True</td>\n",
       "    </tr>\n",
       "    <tr>\n",
       "      <th>5</th>\n",
       "      <td>2827</td>\n",
       "      <td>39385</td>\n",
       "      <td>1303</td>\n",
       "      <td>1149</td>\n",
       "      <td>1</td>\n",
       "      <td>False</td>\n",
       "      <td>False</td>\n",
       "      <td>False</td>\n",
       "      <td>False</td>\n",
       "      <td>False</td>\n",
       "      <td>...</td>\n",
       "      <td>False</td>\n",
       "      <td>False</td>\n",
       "      <td>False</td>\n",
       "      <td>False</td>\n",
       "      <td>False</td>\n",
       "      <td>False</td>\n",
       "      <td>False</td>\n",
       "      <td>True</td>\n",
       "      <td>False</td>\n",
       "      <td>False</td>\n",
       "    </tr>\n",
       "    <tr>\n",
       "      <th>7</th>\n",
       "      <td>14452</td>\n",
       "      <td>32565</td>\n",
       "      <td>269</td>\n",
       "      <td>202</td>\n",
       "      <td>0</td>\n",
       "      <td>False</td>\n",
       "      <td>False</td>\n",
       "      <td>False</td>\n",
       "      <td>False</td>\n",
       "      <td>False</td>\n",
       "      <td>...</td>\n",
       "      <td>False</td>\n",
       "      <td>False</td>\n",
       "      <td>False</td>\n",
       "      <td>False</td>\n",
       "      <td>False</td>\n",
       "      <td>False</td>\n",
       "      <td>True</td>\n",
       "      <td>False</td>\n",
       "      <td>True</td>\n",
       "      <td>False</td>\n",
       "    </tr>\n",
       "    <tr>\n",
       "      <th>8</th>\n",
       "      <td>44944</td>\n",
       "      <td>49648</td>\n",
       "      <td>314</td>\n",
       "      <td>45</td>\n",
       "      <td>1</td>\n",
       "      <td>False</td>\n",
       "      <td>False</td>\n",
       "      <td>False</td>\n",
       "      <td>False</td>\n",
       "      <td>False</td>\n",
       "      <td>...</td>\n",
       "      <td>False</td>\n",
       "      <td>False</td>\n",
       "      <td>False</td>\n",
       "      <td>False</td>\n",
       "      <td>True</td>\n",
       "      <td>True</td>\n",
       "      <td>False</td>\n",
       "      <td>False</td>\n",
       "      <td>False</td>\n",
       "      <td>False</td>\n",
       "    </tr>\n",
       "    <tr>\n",
       "      <th>9</th>\n",
       "      <td>48337</td>\n",
       "      <td>45174</td>\n",
       "      <td>1164</td>\n",
       "      <td>674</td>\n",
       "      <td>1</td>\n",
       "      <td>False</td>\n",
       "      <td>False</td>\n",
       "      <td>False</td>\n",
       "      <td>False</td>\n",
       "      <td>False</td>\n",
       "      <td>...</td>\n",
       "      <td>False</td>\n",
       "      <td>False</td>\n",
       "      <td>False</td>\n",
       "      <td>False</td>\n",
       "      <td>True</td>\n",
       "      <td>False</td>\n",
       "      <td>True</td>\n",
       "      <td>False</td>\n",
       "      <td>True</td>\n",
       "      <td>False</td>\n",
       "    </tr>\n",
       "    <tr>\n",
       "      <th>10</th>\n",
       "      <td>21249</td>\n",
       "      <td>17171</td>\n",
       "      <td>1302</td>\n",
       "      <td>710</td>\n",
       "      <td>0</td>\n",
       "      <td>False</td>\n",
       "      <td>False</td>\n",
       "      <td>False</td>\n",
       "      <td>False</td>\n",
       "      <td>False</td>\n",
       "      <td>...</td>\n",
       "      <td>False</td>\n",
       "      <td>False</td>\n",
       "      <td>False</td>\n",
       "      <td>False</td>\n",
       "      <td>False</td>\n",
       "      <td>False</td>\n",
       "      <td>True</td>\n",
       "      <td>False</td>\n",
       "      <td>True</td>\n",
       "      <td>False</td>\n",
       "    </tr>\n",
       "    <tr>\n",
       "      <th>11</th>\n",
       "      <td>7610</td>\n",
       "      <td>23240</td>\n",
       "      <td>675</td>\n",
       "      <td>913</td>\n",
       "      <td>0</td>\n",
       "      <td>False</td>\n",
       "      <td>False</td>\n",
       "      <td>False</td>\n",
       "      <td>False</td>\n",
       "      <td>False</td>\n",
       "      <td>...</td>\n",
       "      <td>False</td>\n",
       "      <td>False</td>\n",
       "      <td>False</td>\n",
       "      <td>False</td>\n",
       "      <td>True</td>\n",
       "      <td>True</td>\n",
       "      <td>False</td>\n",
       "      <td>False</td>\n",
       "      <td>False</td>\n",
       "      <td>True</td>\n",
       "    </tr>\n",
       "  </tbody>\n",
       "</table>\n",
       "<p>10 rows × 21444 columns</p>\n",
       "</div>"
      ],
      "text/plain": [
       "    Src_Port  Dst_Port  Packet_Size  Payload  label  Timestamp_00:00.4  \\\n",
       "0      64927      5866          776      178      1              False   \n",
       "1      22858     61498         1341     1238      0              False   \n",
       "2      21042      4709         1428     1273      1              False   \n",
       "3       3799     31702          227      196      1              False   \n",
       "5       2827     39385         1303     1149      1              False   \n",
       "7      14452     32565          269      202      0              False   \n",
       "8      44944     49648          314       45      1              False   \n",
       "9      48337     45174         1164      674      1              False   \n",
       "10     21249     17171         1302      710      0              False   \n",
       "11      7610     23240          675      913      0              False   \n",
       "\n",
       "    Timestamp_00:01.3  Timestamp_00:02.2  Timestamp_00:02.3  \\\n",
       "0               False              False              False   \n",
       "1               False              False              False   \n",
       "2               False              False              False   \n",
       "3               False              False              False   \n",
       "5               False              False              False   \n",
       "7               False              False              False   \n",
       "8               False              False              False   \n",
       "9               False              False              False   \n",
       "10              False              False              False   \n",
       "11              False              False              False   \n",
       "\n",
       "    Timestamp_00:03.2  ...  Dst_IP_99.77.74.141  Dst_IP_99.81.174.168  \\\n",
       "0               False  ...                False                 False   \n",
       "1               False  ...                False                 False   \n",
       "2               False  ...                False                 False   \n",
       "3               False  ...                False                 False   \n",
       "5               False  ...                False                 False   \n",
       "7               False  ...                False                 False   \n",
       "8               False  ...                False                 False   \n",
       "9               False  ...                False                 False   \n",
       "10              False  ...                False                 False   \n",
       "11              False  ...                False                 False   \n",
       "\n",
       "    Dst_IP_99.87.115.152  Dst_IP_99.97.88.84  Protocol_UDP  Flags_FIN  \\\n",
       "0                  False               False         False       True   \n",
       "1                  False               False          True      False   \n",
       "2                  False               False         False      False   \n",
       "3                  False               False         False      False   \n",
       "5                  False               False         False      False   \n",
       "7                  False               False         False      False   \n",
       "8                  False               False          True       True   \n",
       "9                  False               False          True      False   \n",
       "10                 False               False         False      False   \n",
       "11                 False               False          True       True   \n",
       "\n",
       "    Flags_RST  Flags_SYN  Activity_receiving data  Activity_sending data  \n",
       "0       False      False                    False                   True  \n",
       "1        True      False                    False                   True  \n",
       "2       False      False                     True                  False  \n",
       "3        True      False                    False                   True  \n",
       "5       False       True                    False                  False  \n",
       "7        True      False                     True                  False  \n",
       "8       False      False                    False                  False  \n",
       "9        True      False                     True                  False  \n",
       "10       True      False                     True                  False  \n",
       "11      False      False                    False                   True  \n",
       "\n",
       "[10 rows x 21444 columns]"
      ]
     },
     "execution_count": 31,
     "metadata": {},
     "output_type": "execute_result"
    }
   ],
   "source": [
    "#dataframe after encoding\n",
    "df.head(10)"
   ]
  },
  {
   "cell_type": "code",
   "execution_count": 32,
   "id": "abba9764",
   "metadata": {},
   "outputs": [
    {
     "data": {
      "text/plain": [
       "Src_Port                   int64\n",
       "Dst_Port                   int64\n",
       "Packet_Size                int64\n",
       "Payload                    int64\n",
       "label                      int64\n",
       "                           ...  \n",
       "Flags_FIN                   bool\n",
       "Flags_RST                   bool\n",
       "Flags_SYN                   bool\n",
       "Activity_receiving data     bool\n",
       "Activity_sending data       bool\n",
       "Length: 21444, dtype: object"
      ]
     },
     "execution_count": 32,
     "metadata": {},
     "output_type": "execute_result"
    }
   ],
   "source": [
    "df.dtypes"
   ]
  },
  {
   "cell_type": "markdown",
   "id": "4469f799",
   "metadata": {},
   "source": [
    "### Split into Independent and dependent variables"
   ]
  },
  {
   "cell_type": "code",
   "execution_count": 33,
   "id": "68f8bd86",
   "metadata": {},
   "outputs": [],
   "source": [
    "#separating input and output attributes\n",
    "x = df.drop(['label'], axis=1)\n",
    "y = df['label']"
   ]
  },
  {
   "cell_type": "markdown",
   "id": "739311b8",
   "metadata": {},
   "source": [
    "### Normalizing features"
   ]
  },
  {
   "cell_type": "code",
   "execution_count": 34,
   "id": "331d62d9",
   "metadata": {},
   "outputs": [],
   "source": [
    "ms = MinMaxScaler()\n",
    "x = ms.fit_transform(x)"
   ]
  },
  {
   "cell_type": "markdown",
   "id": "a50fcc7e",
   "metadata": {},
   "source": [
    "### Train-Test-Split [70-30]"
   ]
  },
  {
   "cell_type": "code",
   "execution_count": 35,
   "id": "1920d424",
   "metadata": {},
   "outputs": [
    {
     "name": "stdout",
     "output_type": "stream",
     "text": [
      "(5588, 21443) (2395, 21443)\n"
     ]
    }
   ],
   "source": [
    "X_train, X_test, y_train, y_test = train_test_split(x, y,test_size=0.3)\n",
    "print(X_train.shape, X_test.shape)"
   ]
  },
  {
   "cell_type": "markdown",
   "id": "08f0159c",
   "metadata": {},
   "source": [
    "#### Deep Neural Network"
   ]
  },
  {
   "cell_type": "code",
   "execution_count": 217,
   "id": "90050313",
   "metadata": {},
   "outputs": [],
   "source": [
    "Classifier_accuracy = []"
   ]
  },
  {
   "cell_type": "markdown",
   "id": "e86665d0",
   "metadata": {},
   "source": [
    "## Defining the Deep Neural Network"
   ]
  },
  {
   "cell_type": "code",
   "execution_count": 218,
   "id": "bd66104b",
   "metadata": {},
   "outputs": [
    {
     "name": "stdout",
     "output_type": "stream",
     "text": [
      "Model: \"sequential_2\"\n",
      "_________________________________________________________________\n",
      " Layer (type)                Output Shape              Param #   \n",
      "=================================================================\n",
      " Hidden_Layer_1 (Dense)      (None, 28)                1512      \n",
      "                                                                 \n",
      " Hidden_Layer_2 (Dense)      (None, 10)                290       \n",
      "                                                                 \n",
      " Output_Layer (Dense)        (None, 1)                 11        \n",
      "                                                                 \n",
      "=================================================================\n",
      "Total params: 1813 (7.08 KB)\n",
      "Trainable params: 1813 (7.08 KB)\n",
      "Non-trainable params: 0 (0.00 Byte)\n",
      "_________________________________________________________________\n"
     ]
    }
   ],
   "source": [
    "model = Sequential()\n",
    "model.add(Dense(28, input_shape=(53,), activation=\"relu\", name=\"Hidden_Layer_1\"))\n",
    "model.add(Dense(10, activation=\"relu\", name=\"Hidden_Layer_2\"))\n",
    "model.add(Dense(1, activation=\"sigmoid\", name=\"Output_Layer\"))\n",
    "\n",
    "model.compile(optimizer='adam', loss='binary_crossentropy', metrics=['accuracy'])\n",
    "\n",
    "model.summary()"
   ]
  },
  {
   "cell_type": "markdown",
   "id": "b72205d6",
   "metadata": {},
   "source": [
    "## Model fitting "
   ]
  },
  {
   "cell_type": "code",
   "execution_count": 219,
   "id": "dc430c5f-eda1-4377-bdca-1fdd2dad6a28",
   "metadata": {},
   "outputs": [
    {
     "name": "stdout",
     "output_type": "stream",
     "text": [
      "(65556, 53)\n",
      "(28096, 53)\n"
     ]
    }
   ],
   "source": [
    "print(X_train.shape)\n",
    "print(X_test.shape)"
   ]
  },
  {
   "cell_type": "code",
   "execution_count": 220,
   "id": "5aeadd75",
   "metadata": {},
   "outputs": [
    {
     "name": "stdout",
     "output_type": "stream",
     "text": [
      "Epoch 1/100\n",
      "WARNING:tensorflow:From C:\\Users\\HP\\anaconda3\\Lib\\site-packages\\keras\\src\\utils\\tf_utils.py:492: The name tf.ragged.RaggedTensorValue is deprecated. Please use tf.compat.v1.ragged.RaggedTensorValue instead.\n",
      "\n",
      "WARNING:tensorflow:From C:\\Users\\HP\\anaconda3\\Lib\\site-packages\\keras\\src\\engine\\base_layer_utils.py:384: The name tf.executing_eagerly_outside_functions is deprecated. Please use tf.compat.v1.executing_eagerly_outside_functions instead.\n",
      "\n",
      "2049/2049 - 8s - loss: 0.2840 - accuracy: 0.8799 - val_loss: 0.1544 - val_accuracy: 0.9438 - 8s/epoch - 4ms/step\n",
      "Epoch 2/100\n",
      "2049/2049 - 6s - loss: 0.1264 - accuracy: 0.9550 - val_loss: 0.1100 - val_accuracy: 0.9642 - 6s/epoch - 3ms/step\n",
      "Epoch 3/100\n",
      "2049/2049 - 5s - loss: 0.0969 - accuracy: 0.9672 - val_loss: 0.0915 - val_accuracy: 0.9703 - 5s/epoch - 3ms/step\n",
      "Epoch 4/100\n",
      "2049/2049 - 5s - loss: 0.0827 - accuracy: 0.9710 - val_loss: 0.0797 - val_accuracy: 0.9728 - 5s/epoch - 3ms/step\n",
      "Epoch 5/100\n",
      "2049/2049 - 5s - loss: 0.0734 - accuracy: 0.9734 - val_loss: 0.0735 - val_accuracy: 0.9741 - 5s/epoch - 3ms/step\n",
      "Epoch 6/100\n",
      "2049/2049 - 5s - loss: 0.0669 - accuracy: 0.9751 - val_loss: 0.0662 - val_accuracy: 0.9750 - 5s/epoch - 3ms/step\n",
      "Epoch 7/100\n",
      "2049/2049 - 5s - loss: 0.0632 - accuracy: 0.9758 - val_loss: 0.0617 - val_accuracy: 0.9755 - 5s/epoch - 3ms/step\n",
      "Epoch 8/100\n",
      "2049/2049 - 6s - loss: 0.0578 - accuracy: 0.9780 - val_loss: 0.0551 - val_accuracy: 0.9790 - 6s/epoch - 3ms/step\n",
      "Epoch 9/100\n",
      "2049/2049 - 5s - loss: 0.0557 - accuracy: 0.9781 - val_loss: 0.0536 - val_accuracy: 0.9799 - 5s/epoch - 3ms/step\n",
      "Epoch 10/100\n",
      "2049/2049 - 5s - loss: 0.0529 - accuracy: 0.9789 - val_loss: 0.0515 - val_accuracy: 0.9795 - 5s/epoch - 3ms/step\n",
      "Epoch 11/100\n",
      "2049/2049 - 5s - loss: 0.0507 - accuracy: 0.9798 - val_loss: 0.0540 - val_accuracy: 0.9792 - 5s/epoch - 3ms/step\n",
      "Epoch 12/100\n",
      "2049/2049 - 5s - loss: 0.0479 - accuracy: 0.9809 - val_loss: 0.0528 - val_accuracy: 0.9789 - 5s/epoch - 3ms/step\n",
      "Epoch 13/100\n",
      "2049/2049 - 6s - loss: 0.0465 - accuracy: 0.9815 - val_loss: 0.0498 - val_accuracy: 0.9814 - 6s/epoch - 3ms/step\n",
      "Epoch 14/100\n",
      "2049/2049 - 5s - loss: 0.0449 - accuracy: 0.9813 - val_loss: 0.0482 - val_accuracy: 0.9804 - 5s/epoch - 3ms/step\n",
      "Epoch 15/100\n",
      "2049/2049 - 5s - loss: 0.0442 - accuracy: 0.9816 - val_loss: 0.0465 - val_accuracy: 0.9808 - 5s/epoch - 3ms/step\n",
      "Epoch 16/100\n",
      "2049/2049 - 6s - loss: 0.0427 - accuracy: 0.9822 - val_loss: 0.0428 - val_accuracy: 0.9834 - 6s/epoch - 3ms/step\n",
      "Epoch 17/100\n",
      "2049/2049 - 5s - loss: 0.0421 - accuracy: 0.9826 - val_loss: 0.0427 - val_accuracy: 0.9824 - 5s/epoch - 3ms/step\n",
      "Epoch 18/100\n",
      "2049/2049 - 5s - loss: 0.0403 - accuracy: 0.9837 - val_loss: 0.0436 - val_accuracy: 0.9820 - 5s/epoch - 3ms/step\n",
      "Epoch 19/100\n",
      "2049/2049 - 6s - loss: 0.0406 - accuracy: 0.9832 - val_loss: 0.0392 - val_accuracy: 0.9845 - 6s/epoch - 3ms/step\n",
      "Epoch 20/100\n",
      "2049/2049 - 5s - loss: 0.0389 - accuracy: 0.9832 - val_loss: 0.0423 - val_accuracy: 0.9828 - 5s/epoch - 3ms/step\n",
      "Epoch 21/100\n",
      "2049/2049 - 6s - loss: 0.0375 - accuracy: 0.9842 - val_loss: 0.0387 - val_accuracy: 0.9847 - 6s/epoch - 3ms/step\n",
      "Epoch 22/100\n",
      "2049/2049 - 6s - loss: 0.0365 - accuracy: 0.9848 - val_loss: 0.0388 - val_accuracy: 0.9831 - 6s/epoch - 3ms/step\n",
      "Epoch 23/100\n",
      "2049/2049 - 6s - loss: 0.0370 - accuracy: 0.9848 - val_loss: 0.0371 - val_accuracy: 0.9857 - 6s/epoch - 3ms/step\n",
      "Epoch 24/100\n",
      "2049/2049 - 6s - loss: 0.0356 - accuracy: 0.9849 - val_loss: 0.0342 - val_accuracy: 0.9856 - 6s/epoch - 3ms/step\n",
      "Epoch 25/100\n",
      "2049/2049 - 5s - loss: 0.0350 - accuracy: 0.9850 - val_loss: 0.0355 - val_accuracy: 0.9854 - 5s/epoch - 3ms/step\n",
      "Epoch 26/100\n",
      "2049/2049 - 5s - loss: 0.0346 - accuracy: 0.9850 - val_loss: 0.0340 - val_accuracy: 0.9862 - 5s/epoch - 3ms/step\n",
      "Epoch 27/100\n",
      "2049/2049 - 6s - loss: 0.0355 - accuracy: 0.9846 - val_loss: 0.0325 - val_accuracy: 0.9880 - 6s/epoch - 3ms/step\n",
      "Epoch 28/100\n",
      "2049/2049 - 7s - loss: 0.0337 - accuracy: 0.9854 - val_loss: 0.0390 - val_accuracy: 0.9844 - 7s/epoch - 3ms/step\n",
      "Epoch 29/100\n",
      "2049/2049 - 6s - loss: 0.0326 - accuracy: 0.9865 - val_loss: 0.0372 - val_accuracy: 0.9855 - 6s/epoch - 3ms/step\n",
      "Epoch 30/100\n",
      "2049/2049 - 6s - loss: 0.0325 - accuracy: 0.9858 - val_loss: 0.0360 - val_accuracy: 0.9857 - 6s/epoch - 3ms/step\n",
      "Epoch 31/100\n",
      "2049/2049 - 6s - loss: 0.0316 - accuracy: 0.9864 - val_loss: 0.0347 - val_accuracy: 0.9859 - 6s/epoch - 3ms/step\n",
      "Epoch 32/100\n",
      "2049/2049 - 8s - loss: 0.0309 - accuracy: 0.9865 - val_loss: 0.0342 - val_accuracy: 0.9865 - 8s/epoch - 4ms/step\n",
      "Epoch 33/100\n",
      "2049/2049 - 9s - loss: 0.0312 - accuracy: 0.9871 - val_loss: 0.0334 - val_accuracy: 0.9857 - 9s/epoch - 4ms/step\n",
      "Epoch 34/100\n",
      "2049/2049 - 6s - loss: 0.0313 - accuracy: 0.9865 - val_loss: 0.0331 - val_accuracy: 0.9863 - 6s/epoch - 3ms/step\n",
      "Epoch 35/100\n",
      "2049/2049 - 7s - loss: 0.0307 - accuracy: 0.9871 - val_loss: 0.0352 - val_accuracy: 0.9852 - 7s/epoch - 3ms/step\n",
      "Epoch 36/100\n",
      "2049/2049 - 8s - loss: 0.0303 - accuracy: 0.9872 - val_loss: 0.0349 - val_accuracy: 0.9853 - 8s/epoch - 4ms/step\n",
      "Epoch 37/100\n",
      "2049/2049 - 6s - loss: 0.0296 - accuracy: 0.9873 - val_loss: 0.0316 - val_accuracy: 0.9861 - 6s/epoch - 3ms/step\n",
      "Epoch 38/100\n",
      "2049/2049 - 8s - loss: 0.0288 - accuracy: 0.9880 - val_loss: 0.0474 - val_accuracy: 0.9811 - 8s/epoch - 4ms/step\n",
      "Epoch 39/100\n",
      "2049/2049 - 6s - loss: 0.0305 - accuracy: 0.9874 - val_loss: 0.0285 - val_accuracy: 0.9891 - 6s/epoch - 3ms/step\n",
      "Epoch 40/100\n",
      "2049/2049 - 7s - loss: 0.0294 - accuracy: 0.9873 - val_loss: 0.0307 - val_accuracy: 0.9872 - 7s/epoch - 3ms/step\n",
      "Epoch 41/100\n",
      "2049/2049 - 6s - loss: 0.0277 - accuracy: 0.9886 - val_loss: 0.0354 - val_accuracy: 0.9855 - 6s/epoch - 3ms/step\n",
      "Epoch 42/100\n",
      "2049/2049 - 6s - loss: 0.0278 - accuracy: 0.9882 - val_loss: 0.0306 - val_accuracy: 0.9880 - 6s/epoch - 3ms/step\n",
      "Epoch 43/100\n",
      "2049/2049 - 10s - loss: 0.0285 - accuracy: 0.9878 - val_loss: 0.0300 - val_accuracy: 0.9865 - 10s/epoch - 5ms/step\n",
      "Epoch 44/100\n",
      "2049/2049 - 9s - loss: 0.0275 - accuracy: 0.9880 - val_loss: 0.0368 - val_accuracy: 0.9848 - 9s/epoch - 4ms/step\n",
      "Epoch 45/100\n",
      "2049/2049 - 7s - loss: 0.0275 - accuracy: 0.9885 - val_loss: 0.0274 - val_accuracy: 0.9887 - 7s/epoch - 3ms/step\n",
      "Epoch 46/100\n",
      "2049/2049 - 8s - loss: 0.0264 - accuracy: 0.9888 - val_loss: 0.0309 - val_accuracy: 0.9871 - 8s/epoch - 4ms/step\n",
      "Epoch 47/100\n",
      "2049/2049 - 6s - loss: 0.0280 - accuracy: 0.9877 - val_loss: 0.0322 - val_accuracy: 0.9870 - 6s/epoch - 3ms/step\n",
      "Epoch 48/100\n",
      "2049/2049 - 6s - loss: 0.0266 - accuracy: 0.9883 - val_loss: 0.0426 - val_accuracy: 0.9832 - 6s/epoch - 3ms/step\n",
      "Epoch 49/100\n",
      "2049/2049 - 8s - loss: 0.0268 - accuracy: 0.9882 - val_loss: 0.0340 - val_accuracy: 0.9859 - 8s/epoch - 4ms/step\n",
      "Epoch 50/100\n",
      "2049/2049 - 6s - loss: 0.0272 - accuracy: 0.9882 - val_loss: 0.0301 - val_accuracy: 0.9872 - 6s/epoch - 3ms/step\n",
      "Epoch 51/100\n",
      "2049/2049 - 5s - loss: 0.0265 - accuracy: 0.9885 - val_loss: 0.0249 - val_accuracy: 0.9899 - 5s/epoch - 3ms/step\n",
      "Epoch 52/100\n",
      "2049/2049 - 6s - loss: 0.0260 - accuracy: 0.9889 - val_loss: 0.0292 - val_accuracy: 0.9885 - 6s/epoch - 3ms/step\n",
      "Epoch 53/100\n",
      "2049/2049 - 6s - loss: 0.0259 - accuracy: 0.9888 - val_loss: 0.0327 - val_accuracy: 0.9859 - 6s/epoch - 3ms/step\n",
      "Epoch 54/100\n",
      "2049/2049 - 7s - loss: 0.0250 - accuracy: 0.9893 - val_loss: 0.0253 - val_accuracy: 0.9894 - 7s/epoch - 4ms/step\n",
      "Epoch 55/100\n",
      "2049/2049 - 9s - loss: 0.0252 - accuracy: 0.9887 - val_loss: 0.0243 - val_accuracy: 0.9895 - 9s/epoch - 4ms/step\n",
      "Epoch 56/100\n",
      "2049/2049 - 6s - loss: 0.0250 - accuracy: 0.9892 - val_loss: 0.0292 - val_accuracy: 0.9886 - 6s/epoch - 3ms/step\n",
      "Epoch 57/100\n",
      "2049/2049 - 6s - loss: 0.0252 - accuracy: 0.9895 - val_loss: 0.0267 - val_accuracy: 0.9889 - 6s/epoch - 3ms/step\n",
      "Epoch 58/100\n",
      "2049/2049 - 6s - loss: 0.0249 - accuracy: 0.9896 - val_loss: 0.0259 - val_accuracy: 0.9889 - 6s/epoch - 3ms/step\n",
      "Epoch 59/100\n",
      "2049/2049 - 6s - loss: 0.0248 - accuracy: 0.9891 - val_loss: 0.0261 - val_accuracy: 0.9894 - 6s/epoch - 3ms/step\n",
      "Epoch 60/100\n",
      "2049/2049 - 5s - loss: 0.0243 - accuracy: 0.9899 - val_loss: 0.0309 - val_accuracy: 0.9864 - 5s/epoch - 3ms/step\n",
      "Epoch 61/100\n",
      "2049/2049 - 6s - loss: 0.0243 - accuracy: 0.9898 - val_loss: 0.0249 - val_accuracy: 0.9897 - 6s/epoch - 3ms/step\n",
      "Epoch 62/100\n",
      "2049/2049 - 7s - loss: 0.0242 - accuracy: 0.9896 - val_loss: 0.0256 - val_accuracy: 0.9896 - 7s/epoch - 3ms/step\n",
      "Epoch 63/100\n",
      "2049/2049 - 6s - loss: 0.0240 - accuracy: 0.9893 - val_loss: 0.0227 - val_accuracy: 0.9904 - 6s/epoch - 3ms/step\n",
      "Epoch 64/100\n",
      "2049/2049 - 6s - loss: 0.0244 - accuracy: 0.9894 - val_loss: 0.0367 - val_accuracy: 0.9839 - 6s/epoch - 3ms/step\n",
      "Epoch 65/100\n",
      "2049/2049 - 6s - loss: 0.0236 - accuracy: 0.9900 - val_loss: 0.0254 - val_accuracy: 0.9889 - 6s/epoch - 3ms/step\n",
      "Epoch 66/100\n",
      "2049/2049 - 6s - loss: 0.0238 - accuracy: 0.9896 - val_loss: 0.0257 - val_accuracy: 0.9896 - 6s/epoch - 3ms/step\n",
      "Epoch 67/100\n",
      "2049/2049 - 6s - loss: 0.0237 - accuracy: 0.9898 - val_loss: 0.0267 - val_accuracy: 0.9886 - 6s/epoch - 3ms/step\n",
      "Epoch 68/100\n",
      "2049/2049 - 8s - loss: 0.0233 - accuracy: 0.9898 - val_loss: 0.0273 - val_accuracy: 0.9887 - 8s/epoch - 4ms/step\n",
      "Epoch 69/100\n",
      "2049/2049 - 7s - loss: 0.0246 - accuracy: 0.9899 - val_loss: 0.0221 - val_accuracy: 0.9910 - 7s/epoch - 3ms/step\n",
      "Epoch 70/100\n",
      "2049/2049 - 6s - loss: 0.0235 - accuracy: 0.9894 - val_loss: 0.0234 - val_accuracy: 0.9903 - 6s/epoch - 3ms/step\n",
      "Epoch 71/100\n",
      "2049/2049 - 8s - loss: 0.0231 - accuracy: 0.9898 - val_loss: 0.0233 - val_accuracy: 0.9904 - 8s/epoch - 4ms/step\n",
      "Epoch 72/100\n",
      "2049/2049 - 7s - loss: 0.0232 - accuracy: 0.9901 - val_loss: 0.0230 - val_accuracy: 0.9901 - 7s/epoch - 4ms/step\n",
      "Epoch 73/100\n",
      "2049/2049 - 5s - loss: 0.0231 - accuracy: 0.9901 - val_loss: 0.0273 - val_accuracy: 0.9887 - 5s/epoch - 3ms/step\n",
      "Epoch 74/100\n",
      "2049/2049 - 6s - loss: 0.0227 - accuracy: 0.9903 - val_loss: 0.0238 - val_accuracy: 0.9904 - 6s/epoch - 3ms/step\n",
      "Epoch 75/100\n",
      "2049/2049 - 5s - loss: 0.0225 - accuracy: 0.9907 - val_loss: 0.0302 - val_accuracy: 0.9862 - 5s/epoch - 3ms/step\n",
      "Epoch 76/100\n",
      "2049/2049 - 6s - loss: 0.0226 - accuracy: 0.9904 - val_loss: 0.0301 - val_accuracy: 0.9872 - 6s/epoch - 3ms/step\n",
      "Epoch 77/100\n",
      "2049/2049 - 7s - loss: 0.0221 - accuracy: 0.9907 - val_loss: 0.0284 - val_accuracy: 0.9882 - 7s/epoch - 3ms/step\n",
      "Epoch 78/100\n",
      "2049/2049 - 6s - loss: 0.0228 - accuracy: 0.9901 - val_loss: 0.0250 - val_accuracy: 0.9900 - 6s/epoch - 3ms/step\n",
      "Epoch 79/100\n",
      "2049/2049 - 6s - loss: 0.0221 - accuracy: 0.9904 - val_loss: 0.0246 - val_accuracy: 0.9902 - 6s/epoch - 3ms/step\n",
      "Epoch 80/100\n",
      "2049/2049 - 5s - loss: 0.0214 - accuracy: 0.9909 - val_loss: 0.0220 - val_accuracy: 0.9910 - 5s/epoch - 3ms/step\n",
      "Epoch 81/100\n",
      "2049/2049 - 5s - loss: 0.0214 - accuracy: 0.9909 - val_loss: 0.0250 - val_accuracy: 0.9889 - 5s/epoch - 3ms/step\n",
      "Epoch 82/100\n",
      "2049/2049 - 5s - loss: 0.0219 - accuracy: 0.9908 - val_loss: 0.0209 - val_accuracy: 0.9915 - 5s/epoch - 3ms/step\n",
      "Epoch 83/100\n",
      "2049/2049 - 5s - loss: 0.0216 - accuracy: 0.9907 - val_loss: 0.0230 - val_accuracy: 0.9906 - 5s/epoch - 3ms/step\n",
      "Epoch 84/100\n",
      "2049/2049 - 5s - loss: 0.0210 - accuracy: 0.9909 - val_loss: 0.0216 - val_accuracy: 0.9912 - 5s/epoch - 3ms/step\n",
      "Epoch 85/100\n",
      "2049/2049 - 5s - loss: 0.0220 - accuracy: 0.9908 - val_loss: 0.0252 - val_accuracy: 0.9896 - 5s/epoch - 3ms/step\n",
      "Epoch 86/100\n",
      "2049/2049 - 5s - loss: 0.0210 - accuracy: 0.9910 - val_loss: 0.0212 - val_accuracy: 0.9925 - 5s/epoch - 3ms/step\n",
      "Epoch 87/100\n",
      "2049/2049 - 5s - loss: 0.0211 - accuracy: 0.9910 - val_loss: 0.0439 - val_accuracy: 0.9833 - 5s/epoch - 3ms/step\n",
      "Epoch 88/100\n",
      "2049/2049 - 5s - loss: 0.0216 - accuracy: 0.9910 - val_loss: 0.0214 - val_accuracy: 0.9911 - 5s/epoch - 3ms/step\n",
      "Epoch 89/100\n",
      "2049/2049 - 5s - loss: 0.0207 - accuracy: 0.9911 - val_loss: 0.0209 - val_accuracy: 0.9916 - 5s/epoch - 3ms/step\n",
      "Epoch 90/100\n",
      "2049/2049 - 6s - loss: 0.0217 - accuracy: 0.9908 - val_loss: 0.0222 - val_accuracy: 0.9910 - 6s/epoch - 3ms/step\n",
      "Epoch 91/100\n",
      "2049/2049 - 7s - loss: 0.0208 - accuracy: 0.9912 - val_loss: 0.0290 - val_accuracy: 0.9869 - 7s/epoch - 3ms/step\n",
      "Epoch 92/100\n",
      "2049/2049 - 7s - loss: 0.0215 - accuracy: 0.9911 - val_loss: 0.0230 - val_accuracy: 0.9901 - 7s/epoch - 3ms/step\n",
      "Epoch 93/100\n",
      "2049/2049 - 5s - loss: 0.0204 - accuracy: 0.9914 - val_loss: 0.0241 - val_accuracy: 0.9904 - 5s/epoch - 3ms/step\n",
      "Epoch 94/100\n",
      "2049/2049 - 5s - loss: 0.0202 - accuracy: 0.9912 - val_loss: 0.0222 - val_accuracy: 0.9904 - 5s/epoch - 3ms/step\n",
      "Epoch 95/100\n",
      "2049/2049 - 6s - loss: 0.0214 - accuracy: 0.9908 - val_loss: 0.0299 - val_accuracy: 0.9875 - 6s/epoch - 3ms/step\n",
      "Epoch 96/100\n",
      "2049/2049 - 5s - loss: 0.0207 - accuracy: 0.9912 - val_loss: 0.0223 - val_accuracy: 0.9909 - 5s/epoch - 3ms/step\n",
      "Epoch 97/100\n",
      "2049/2049 - 5s - loss: 0.0206 - accuracy: 0.9912 - val_loss: 0.0229 - val_accuracy: 0.9906 - 5s/epoch - 3ms/step\n",
      "Epoch 98/100\n",
      "2049/2049 - 5s - loss: 0.0199 - accuracy: 0.9913 - val_loss: 0.0204 - val_accuracy: 0.9921 - 5s/epoch - 3ms/step\n",
      "Epoch 99/100\n",
      "2049/2049 - 5s - loss: 0.0204 - accuracy: 0.9915 - val_loss: 0.0233 - val_accuracy: 0.9905 - 5s/epoch - 3ms/step\n",
      "Epoch 100/100\n",
      "2049/2049 - 6s - loss: 0.0196 - accuracy: 0.9914 - val_loss: 0.0229 - val_accuracy: 0.9906 - 6s/epoch - 3ms/step\n"
     ]
    }
   ],
   "source": [
    "# fit model\n",
    "history_org = model.fit(\n",
    "    X_train, \n",
    "    y_train, \n",
    "    batch_size=32, \n",
    "    epochs=100, verbose=2, \n",
    "    callbacks=None, \n",
    "    validation_data=(X_test,y_test), \n",
    "    shuffle=True, \n",
    "    class_weight=None, \n",
    "    sample_weight=None, \n",
    "    initial_epoch=0)"
   ]
  },
  {
   "cell_type": "markdown",
   "id": "63146b0b",
   "metadata": {},
   "source": [
    "## Plotting Loss v/s Epochs "
   ]
  },
  {
   "cell_type": "code",
   "execution_count": 221,
   "id": "1a2ee146",
   "metadata": {},
   "outputs": [
    {
     "data": {
      "image/png": "[encoded data removed]",
      "text/plain": [
       "<Figure size 640x480 with 1 Axes>"
      ]
     },
     "metadata": {},
     "output_type": "display_data"
    }
   ],
   "source": [
    "loss = history_org.history['loss']\n",
    "val_loss = history_org.history['val_loss']\n",
    "epochs = range(1, len(loss) + 1)\n",
    "plt.plot(epochs, loss, 'g', label = 'Training Loss')\n",
    "plt.plot(epochs, val_loss, 'r', label = 'Validation Loss')\n",
    "plt.title('Loss v/s No. of epochs')\n",
    "plt.xlabel('Number of Epochs')\n",
    "plt.ylabel('Loss')\n",
    "plt.legend()\n",
    "plt.show()"
   ]
  },
  {
   "cell_type": "markdown",
   "id": "b647a0c3",
   "metadata": {},
   "source": [
    "## Plotting Accuracy v/s Epochs "
   ]
  },
  {
   "cell_type": "code",
   "execution_count": 222,
   "id": "af26795c",
   "metadata": {},
   "outputs": [
    {
     "data": {
      "image/png": "[encoded data removed]",
      "text/plain": [
       "<Figure size 640x480 with 1 Axes>"
      ]
     },
     "metadata": {},
     "output_type": "display_data"
    }
   ],
   "source": [
    "loss = history_org.history['accuracy']\n",
    "val_loss = history_org.history['val_accuracy']\n",
    "plt.plot(epochs, loss, 'g', label = 'Training accuracy')\n",
    "plt.plot(epochs, val_loss, 'r', label = 'Validation accuracy')\n",
    "plt.title('Accuracy Scores v/s Number of Epochs')\n",
    "plt.xlabel('No. of Epochs')\n",
    "plt.ylabel('Accuracy Score')\n",
    "plt.legend()\n",
    "plt.show()"
   ]
  },
  {
   "cell_type": "markdown",
   "id": "567d841a",
   "metadata": {},
   "source": [
    "## Model Evaluation "
   ]
  },
  {
   "cell_type": "code",
   "execution_count": 223,
   "id": "51077496",
   "metadata": {},
   "outputs": [
    {
     "name": "stdout",
     "output_type": "stream",
     "text": [
      "878/878 [==============================] - 2s 2ms/step - loss: 0.0229 - accuracy: 0.9906\n",
      "Accuracy of Deep neural Network : 99.06\n"
     ]
    }
   ],
   "source": [
    "loss, accuracy = model.evaluate(X_test, y_test)\n",
    "print('Accuracy of Deep neural Network : %.2f' % (accuracy*100))\n",
    "Classifier_accuracy.append(accuracy*100)"
   ]
  },
  {
   "cell_type": "markdown",
   "id": "617c1e3d",
   "metadata": {},
   "source": [
    "## Classification Report "
   ]
  },
  {
   "cell_type": "code",
   "execution_count": 13,
   "id": "28d012ca",
   "metadata": {},
   "outputs": [
    {
     "ename": "NameError",
     "evalue": "name 'y_test' is not defined",
     "output_type": "error",
     "traceback": [
      "\u001b[1;31m---------------------------------------------------------------------------\u001b[0m",
      "\u001b[1;31mNameError\u001b[0m                                 Traceback (most recent call last)",
      "Cell \u001b[1;32mIn[13], line 1\u001b[0m\n\u001b[1;32m----> 1\u001b[0m \u001b[38;5;28mprint\u001b[39m(classification_report(\u001b[43my_test\u001b[49m, y_pred, target_names \u001b[38;5;241m=\u001b[39m labels))\n",
      "\u001b[1;31mNameError\u001b[0m: name 'y_test' is not defined"
     ]
    }
   ],
   "source": [
    "print(classification_report(y_test, y_pred, target_names = labels))"
   ]
  },
  {
   "cell_type": "markdown",
   "id": "71c92fcb",
   "metadata": {},
   "source": [
    "## Plotting Confusion Matrix"
   ]
  },
  {
   "cell_type": "code",
   "execution_count": 125,
   "id": "8b59f221",
   "metadata": {},
   "outputs": [],
   "source": [
    "from itertools import product\n",
    "def plot_confusion_matrix(cm, classes, normalize=True, title='Confusion matrix', cmap=plt.cm.Blues):\n",
    "    plt.figure(figsize=(10,10))\n",
    "    plt.grid(False)\n",
    "    plt.imshow(cm, interpolation='nearest', cmap=cmap)\n",
    "    plt.title(title)\n",
    "    plt.colorbar()\n",
    "    tick_marks = np.arange(len(classes))\n",
    "    plt.xticks(tick_marks, classes, rotation=45)\n",
    "    plt.yticks(tick_marks, classes)\n",
    "    cm1 = cm\n",
    "    if normalize:\n",
    "        cm = cm.astype('float') / cm.sum(axis=1)[:, np.newaxis]\n",
    "        cm = np.around(cm, decimals=2)\n",
    "        cm[np.isnan(cm)] \n",
    "        thresh = cm.max() / 2.\n",
    "    for i, j in product(range(cm.shape[0]), range(cm.shape[1])):\n",
    "        plt.text(j, i, str(cm1[i, j])+ \" (\"+ str(cm[i, j]*100)+\"%)\",\n",
    "                 horizontalalignment=\"center\",\n",
    "                 color=\"white\" if cm[i, j] > thresh else \"black\")\n",
    "    plt.tight_layout()\n",
    "    plt.ylabel('True label')\n",
    "    plt.xlabel('Predicted label')"
   ]
  },
  {
   "cell_type": "code",
   "execution_count": 126,
   "id": "82b2dff4",
   "metadata": {},
   "outputs": [
    {
     "data": {
      "image/png": "[encoded data removed]",
      "text/plain": [
       "<Figure size 720x720 with 2 Axes>"
      ]
     },
     "metadata": {},
     "output_type": "display_data"
    }
   ],
   "source": [
    "confusion_mtx = confusion_matrix(y_test, y_pred) \n",
    "plot_confusion_matrix(confusion_mtx, classes = labels)"
   ]
  },
  {
   "cell_type": "markdown",
   "id": "c1d6eef5",
   "metadata": {},
   "source": [
    "## Displaying ROC-AUC curve"
   ]
  },
  {
   "cell_type": "code",
   "execution_count": 87,
   "id": "31b80cc9",
   "metadata": {},
   "outputs": [],
   "source": [
    "def model_builder_crv(X_train, X_test, y_train, y_test):\n",
    "    model = keras.Sequential()\n",
    "    \n",
    "    model.add(Dense(28 , input_shape=(56,) , activation=\"relu\" , name=\"Hidden_Layer_1\"))\n",
    "    model.add(Dense(10 , activation=\"relu\" , name=\"Hidden_Layer_2\"))\n",
    "    model.add(Dense(1 , activation=\"sigmoid\" , name=\"Output_Layer\"))\n",
    "    opt = keras.optimizers.Adam(learning_rate=0.01)\n",
    "    \n",
    "    model.compile(optimizer=keras.optimizers.Adam(learning_rate=0.001), loss='binary_crossentropy', metrics=[tf.keras.metrics.AUC()])\n",
    "    history = model.fit(X_train,y_train,epochs=100,verbose=0,callbacks=None,validation_data=(X_test,y_test))\n",
    "\n",
    "    return history, model.layers, model"
   ]
  },
  {
   "cell_type": "code",
   "execution_count": 88,
   "id": "35baba55",
   "metadata": {},
   "outputs": [
    {
     "name": "stdout",
     "output_type": "stream",
     "text": [
      "Area under the curve(AUC) is: 0.9998218809615622\n"
     ]
    },
    {
     "data": {
      "image/png": "[encoded data removed]",
      "text/plain": [
       "<Figure size 1440x1440 with 1 Axes>"
      ]
     },
     "metadata": {},
     "output_type": "display_data"
    }
   ],
   "source": [
    "from sklearn.metrics import roc_curve, auc\n",
    "plt.figure(figsize=(20,20))\n",
    "history,model_layers,model = model_builder_crv(X_train, X_test, y_train, y_test)    \n",
    "y_predicted = model(X_test)\n",
    "fpr, tpr, keras_thr = roc_curve(y_test, y_predicted)\n",
    "auc_crv = auc(fpr, tpr)\n",
    "print(f\"Area under the curve(AUC) is: {auc_crv}\")\n",
    "plt.xlabel('False Positive Rate')\n",
    "plt.ylabel('True Positive Rate')\n",
    "plt.plot(fpr, tpr)\n",
    "plt.title(\"ROC curve\")\n",
    "plt.show()"
   ]
  }
 ],
 "metadata": {
  "kernelspec": {
   "display_name": "Python 3 (ipykernel)",
   "language": "python",
   "name": "python3"
  },
  "language_info": {
   "codemirror_mode": {
    "name": "ipython",
    "version": 3
   },
   "file_extension": ".py",
   "mimetype": "text/x-python",
   "name": "python",
   "nbconvert_exporter": "python",
   "pygments_lexer": "ipython3",
   "version": "3.11.7"
  }
 },
 "nbformat": 4,
 "nbformat_minor": 5
}
